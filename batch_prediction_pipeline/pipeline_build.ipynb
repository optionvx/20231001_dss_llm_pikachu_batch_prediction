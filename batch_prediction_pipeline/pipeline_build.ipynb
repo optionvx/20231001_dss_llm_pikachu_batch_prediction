{
 "cells": [
  {
   "cell_type": "code",
   "execution_count": 13,
   "id": "2551a8d2",
   "metadata": {},
   "outputs": [
    {
     "name": "stdout",
     "output_type": "stream",
     "text": [
      "The autoreload extension is already loaded. To reload it, use:\n",
      "  %reload_ext autoreload\n"
     ]
    }
   ],
   "source": [
    "# imports \n",
    "%load_ext autoreload\n",
    "%autoreload 2\n",
    "\n",
    "import google.cloud.aiplatform as aiplatform\n",
    "import kfp\n",
    "from kfp.v2 import compiler\n",
    "from kfp.v2 import dsl\n",
    "import os \n",
    "import datetime"
   ]
  },
  {
   "cell_type": "markdown",
   "id": "91b35b50",
   "metadata": {},
   "source": [
    "### Set GCP Credentials "
   ]
  },
  {
   "cell_type": "code",
   "execution_count": 14,
   "id": "2fcecfc4",
   "metadata": {},
   "outputs": [],
   "source": [
    "os.environ[\"GOOGLE_APPLICATION_CREDENTIALS\"]=\"your_gcp_credentials.json\"\n",
    "pid = 'your_gcp_project'\n",
    "aiplatform.init(project=pid)"
   ]
  },
  {
   "cell_type": "markdown",
   "id": "76b0a916",
   "metadata": {},
   "source": [
    "# Step 1. Define Arguments for Pipeline--note input data should already be stored in a folder in GCP\n",
    "\n",
    "\n",
    "The pipeline component takes the following arguments:\n",
    "\n",
    ">> gcs_main_bucket (str): The main Google Cloud Storage bucket.\n",
    "\n",
    ">> gcs_folder (str): The specific folder in the GCS bucket.\n",
    "\n",
    ">> project_id (str): The Google Cloud Project ID.\n",
    "\n",
    ">> api_type (str): Name of the api type to use.\n",
    "\n",
    ">> labels (list): List of labels to use.\n",
    "\n",
    ">> llm_query (str): Prompt for LLM\n",
    "\n",
    ">> file_suffix (str): Suffix to add to files.\n",
    "\n",
    ">> rate_limit (int): Rate limit for API calls/second. E.g. if your quota limit is 1200 requests/minute then 1200 req/min * 1min/60s = 20 requests/ seconds\n",
    "\n",
    "\n"
   ]
  },
  {
   "cell_type": "code",
   "execution_count": 29,
   "id": "d6fb309b",
   "metadata": {},
   "outputs": [],
   "source": [
    "# Arguments \n",
    "llm_query = \"\"\" Label the sentiment of the social posts by following the sentiment guidelines below.\n",
    "\n",
    "Negative Guidelines:\n",
    "\n",
    "1. **Focus on Sentiment Words:** Look for words that express a negative opinion or dissatisfaction, such as \"overrated,\" \"not worth it,\" \"wish was different,\" \"annoying,\" or \"too predictable.\"\n",
    "\n",
    "2. **Check for Comparisons:** Pay attention to comparisons that place the subject in a negative light compared to something else. For example, \"Pikachu's popularity has overshadowed other great Pokémon\" implies that Pikachu doesn't deserve its popularity compared to other Pokémon.\n",
    "\n",
    "3. **Look for Wishes or Desires for Change:** If the post expresses a wish or desire for something to be different, it may indicate dissatisfaction with the current state. For example, \"I wish Ash had a different starter Pokémon\" shows a desire for change and potential negativity towards the current situation.\n",
    "\n",
    "4. **Consider Hashtags:** Hashtags can often provide context about the post's sentiment. For example, #Boycott is a clear indication of a negative sentiment.\n",
    "\n",
    "5. **Pay Attention to Emoji Usage:** Emojis can often convey the tone of the post. A frustrated or angry emoji can indicate a negative sentiment.\n",
    "\n",
    "6. **Take into Account the Overall Tone:** Look at the post as a whole and consider the overall tone. If the post seems to be expressing dissatisfaction, disappointment, or frustration, it is likely negative.\n",
    "\n",
    "7. **Note any Call to Action:** If the post includes a call to action that is based on a negative sentiment, such as boycotting, it is likely negative.\n",
    "\n",
    "Positive Guidelines:\n",
    "\n",
    "1. **Look for Positive Words or Phrases:** Focus on words or phrases that express a positive opinion, satisfaction, or praise, such as \"love,\" \"pleasure,\" \"cute,\" \"well-made,\" \"charming,\" \"can't get enough of,\" or \"exciting things are coming.\"\n",
    "\n",
    "2. **Check for Positive Experiences or Memories:** Pay attention to positive experiences or fond memories mentioned in the post. For example, \"I've had a Pikachu plushie since I was a kid\" or \"I've been a fan of Pikachu since I was a kid\" show a positive emotional connection.\n",
    "\n",
    "3. **Consider Hashtags:** Hashtags can often provide context about the post's sentiment. For example, #Pikachu combined with positive words or phrases is a clear indication of a positive sentiment.\n",
    "\n",
    "4. **Pay Attention to Emoji Usage:** Emojis can often convey the tone of the post. Positive emojis such as hearts or smiley faces can indicate a positive sentiment.\n",
    "\n",
    "5. **Take into Account the Overall Tone:** Look at the post as a whole and consider the overall tone. If the post seems to be expressing happiness, satisfaction, or excitement, it is likely positive.\n",
    "\n",
    "6. **Notice Expressions of Pride or Accomplishment:** If the post expresses pride or accomplishment, such as winning a battle or having a productive meeting, it is likely positive.\n",
    "\n",
    "7. **Check for Expressions of Affection or Nostalgia:** Posts that express affection for or nostalgia about the subject, such as mentioning a cherished childhood toy or a special place in one's heart, are likely positive.\n",
    "\n",
    "Neutral Guidelines:\n",
    "\n",
    "1. **Focus on Factual Statements:** Look for statements that are factual or informative, without expressing a clear positive or negative opinion. For example, \"Pikachu's height is 0.4 meters\" or \"Pikachu can use the move Quick Attack.\"\n",
    "\n",
    "2. **Check for Lack of Emotional Language:** Neutral posts often lack emotional language or sentiments, such as \"love,\" \"hate,\" \"exciting,\" or \"disappointing.\"\n",
    "\n",
    "3. **Consider Hashtags:** Hashtags can provide context about the post's content, but in neutral posts, they often relate to the topic without adding sentiment. For example, #Pikachu combined with a factual statement is likely neutral.\n",
    "\n",
    "4. **Pay Attention to Emoji Usage:** Emojis can often convey the tone of the post. Neutral posts may use emojis that are related to the content without expressing a strong positive or negative emotion, such as a lightning bolt emoji for Pikachu's tail.\n",
    "\n",
    "5. **Look for Descriptions or Explanations:** Neutral posts may include descriptions or explanations that add context to the topic without expressing a clear sentiment.\n",
    "\n",
    "6. **Check for Research or Study References:** Posts that reference research, reports, case studies, or other forms of investigation are likely to be neutral, as they often focus on factual information.\n",
    "\n",
    "7. **Consider Conversational Posts:** Conversations that simply share information or preferences, without expressing a strong sentiment, are likely neutral. For example, \"Had a conversation with a friend about our favorite Pokémon.\"\n",
    "\n",
    "\n",
    "\n",
    "\"\"\"\n",
    "pipeline_parameters = {'gcs_main_bucket':'mm-gpe-data',\n",
    "                      'gcs_folder': 'pikachu_llm_sentiment_labeling',\n",
    "                      'project_id':pid,\n",
    "                      'api_type':'vertex-api',\n",
    "                      'labels':['negative','neutral','positive'],\n",
    "                      'llm_query':llm_query,\n",
    "                      'file_suffix':datetime.datetime.now().strftime(\"%Y-%m-%d-%H-%M-%S\"),\n",
    "                      'rate_limit':20} \n",
    "\n"
   ]
  },
  {
   "cell_type": "markdown",
   "id": "953a9ce2",
   "metadata": {},
   "source": [
    "## Step 2. Build out Kubeflow Pipeline "
   ]
  },
  {
   "cell_type": "code",
   "execution_count": 22,
   "id": "d5d0b3c2",
   "metadata": {},
   "outputs": [],
   "source": [
    "@dsl.pipeline(name=f'llm-pikachu-labeling')\n",
    "def pikachu_llm_pipeline(gcs_main_bucket:str,gcs_folder:str,project_id: str, api_type: str, labels:list, llm_query:str, file_suffix: str, rate_limit: int):\n",
    "    \n",
    "    # LLM Labeling Component \n",
    "    llm_component = kfp.components.load_component_from_text('''\n",
    "    name: llm_component\n",
    "    description: Preprocesses data for NLP Models\n",
    "    inputs:\n",
    "    - {name: gcs_main_bucket, type: String}\n",
    "    - {name: gcs_folder, type: String}\n",
    "    - {name: project_id, type: String}\n",
    "    - {name: api_type, type: String}\n",
    "    - {name: labels, type: JsonArray}\n",
    "    - {name: llm_query, type: String}\n",
    "    - {name: file_suffix, type: String}\n",
    "    - {name: rate_limit, type: Integer}\n",
    "   \n",
    "\n",
    "     \n",
    "    implementation:\n",
    "      container:\n",
    "        image: gcr.io/<your-project-id>/<your-pipeline-name>/llm_component:latest\n",
    "        args: [\n",
    "        --gcs-main-bucket, {inputValue: gcs_main_bucket},\n",
    "        --gcs-folder, {inputValue: gcs_folder},\n",
    "        --project-id, {inputValue: project_id},\n",
    "        --api-type, {inputValue: api_type},\n",
    "        --labels, {inputValue: labels},\n",
    "        --llm-query, {inputValue: llm_query},\n",
    "        --file-suffix, {inputValue: file_suffix},\n",
    "        --rate-limit, {inputValue: rate_limit},\n",
    "\n",
    "       \n",
    "        \n",
    "        ]\n",
    "       \n",
    "\n",
    "    ''')\n",
    "\n",
    "    llm_step = llm_component(gcs_main_bucket,gcs_folder,project_id,api_type,labels,llm_query,file_suffix,rate_limit).set_cpu_limit('8').set_memory_limit('30')\n",
    "    \n",
    "\n",
    "    \n",
    "\n",
    "compiler.Compiler().compile(pipeline_func=pikachu_llm_pipeline, package_path='pipeline_spec.json',type_check=True)\n"
   ]
  },
  {
   "cell_type": "markdown",
   "id": "5cd42cc9",
   "metadata": {},
   "source": [
    "## Step 3. Run Pipeline "
   ]
  },
  {
   "cell_type": "code",
   "execution_count": 23,
   "id": "efe35c00",
   "metadata": {},
   "outputs": [],
   "source": [
    "DISPLAY_NAME = f\"{datetime.datetime.now().strftime('%Y%m%d')}_pikachu_llm_sentiment_run\"\n",
    "\n",
    "PIPELINE_ROOT = f\"gs://{pipeline_parameters['gcs_main_bucket']}/{pipeline_parameters['gcs_folder']}/pipeline_root\"\n",
    "\n"
   ]
  },
  {
   "cell_type": "code",
   "execution_count": 1,
   "id": "d4d08040",
   "metadata": {},
   "outputs": [],
   "source": [
    "# Run the Pipeline \n",
    "job = aiplatform.PipelineJob(\n",
    "    display_name=DISPLAY_NAME,\n",
    "    template_path='pipeline_spec.json',\n",
    "    pipeline_root=PIPELINE_ROOT,\n",
    "    parameter_values = pipeline_parameters,\n",
    "    labels={'dss_demo':'pikachu-sentiment'}\n",
    "\n",
    ")\n",
    "\n",
    "job.submit()"
   ]
  }
 ],
 "metadata": {
  "kernelspec": {
   "display_name": "aipenv",
   "language": "python",
   "name": "aipenv"
  },
  "language_info": {
   "codemirror_mode": {
    "name": "ipython",
    "version": 3
   },
   "file_extension": ".py",
   "mimetype": "text/x-python",
   "name": "python",
   "nbconvert_exporter": "python",
   "pygments_lexer": "ipython3",
   "version": "3.7.13"
  }
 },
 "nbformat": 4,
 "nbformat_minor": 5
}